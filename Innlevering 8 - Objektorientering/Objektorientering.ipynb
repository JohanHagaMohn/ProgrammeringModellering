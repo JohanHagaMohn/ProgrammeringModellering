{
 "cells": [
  {
   "cell_type": "code",
   "execution_count": 6,
   "metadata": {},
   "outputs": [],
   "source": [
    "class Grunnstoff():\n",
    "    def __init__(self, a_num, sym, navn, masse, el_neg):\n",
    "        self.a_num, self.sym, self.navn, self.masse, self.el_neg = a_num, sym, navn, masse, el_neg"
   ]
  },
  {
   "cell_type": "code",
   "execution_count": 14,
   "metadata": {},
   "outputs": [],
   "source": [
    "karbon = Grunnstoff('6', 'C', 'Karbon', 12.0107, 2.55)\n",
    "litium = Grunnstoff('3', 'Li', 'Litium', 6.941, 0.98)\n",
    "fluor = Grunnstoff('9', 'F', 'Fluor', 18.9984, 3.98)\n",
    "brom = Grunnstoff('35', 'Br', 'Brom', 79.904, 2.96)\n",
    "klor = Grunnstoff('17', 'Cl', 'Klor', 35.453, 3.16)\n",
    "kalium = Grunnstoff('19', 'K', 'Kalium', 39.0983, 0.82)\n",
    "oksygen = Grunnstoff('8', 'O', 'Oksygen', 15.999, 3.44)\n",
    "hydrogen = Grunnstoff('1', 'H', 'Hydrogen', 1.00784, 2.2)"
   ]
  },
  {
   "cell_type": "code",
   "execution_count": 26,
   "metadata": {},
   "outputs": [],
   "source": [
    "bindinger = {\n",
    "    \"Ionisk\" : 2.0,\n",
    "    'Mellom ionisk og polar kovalent' : 1.6,\n",
    "    'Polar kovalent' : 0.5,\n",
    "    'Mellom polar og upolar kovalent' : 0.3,\n",
    "    'Upolar kovalent' : 0\n",
    "}\n",
    "def bindingstype(grunnstoff1, grunnstoff2):\n",
    "    diff = abs(grunnstoff1.el_neg - grunnstoff2.el_neg)\n",
    "    for k, v in bindinger.items():\n",
    "        if diff > v or (diff == v and v % 0.5 == 0):\n",
    "            return k"
   ]
  },
  {
   "cell_type": "code",
   "execution_count": 28,
   "metadata": {},
   "outputs": [
    {
     "name": "stdout",
     "output_type": "stream",
     "text": [
      "LiF   : Ionisk\n",
      "BrCl  : Upolar kovalent\n",
      "K2O  : Ionisk\n",
      "CH4  : Mellom polar og upolar kovalent\n"
     ]
    }
   ],
   "source": [
    "print(f'LiF   : {bindingstype(litium, fluor)}')\n",
    "print(f'BrCl  : {bindingstype(brom, klor)}')\n",
    "print(f'K2O  : {bindingstype(kalium, oksygen)}')\n",
    "print(f'CH4  : {bindingstype(karbon, hydrogen)}')"
   ]
  },
  {
   "cell_type": "code",
   "execution_count": null,
   "metadata": {},
   "outputs": [],
   "source": []
  }
 ],
 "metadata": {
  "kernelspec": {
   "display_name": "Python 3",
   "language": "python",
   "name": "python3"
  },
  "language_info": {
   "codemirror_mode": {
    "name": "ipython",
    "version": 3
   },
   "file_extension": ".py",
   "mimetype": "text/x-python",
   "name": "python",
   "nbconvert_exporter": "python",
   "pygments_lexer": "ipython3",
   "version": "3.8.0"
  }
 },
 "nbformat": 4,
 "nbformat_minor": 2
}
