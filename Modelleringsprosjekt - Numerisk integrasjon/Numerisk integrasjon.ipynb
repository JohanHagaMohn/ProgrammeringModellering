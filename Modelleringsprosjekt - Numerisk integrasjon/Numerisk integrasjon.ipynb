{
 "cells": [
  {
   "cell_type": "markdown",
   "metadata": {},
   "source": [
    "# Numerisk integrasjon"
   ]
  },
  {
   "cell_type": "markdown",
   "metadata": {},
   "source": [
    "## Introduksjon\n",
    "\n",
    "<br>\n",
    "\n",
    "Integrasjon er en måte å sammenlegge endring og utgir arealet under en graf. Dette gjør at vi, for eksempel, kan finne tilbakelagt strektning mellom to punkter på en fartsgraf. Definisjonen av et bestemt integral mellom punktene a og b mellom f(x) og x-aksen med hensyn på x skrives som følger:\n",
    "\n",
    "<br>\n",
    "\n",
    "$$\\int_{a}^{b} f(x) dx$$\n",
    "\n",
    "<br>\n",
    "\n",
    "Ved numerisk integrasjon, estimerer vi arealet ved hjelp av ulike metoder, som ofte blir nødvendig når vi har diskrete data eller en funksjon som ikke lett integreres analytisk. Og for å gjøre det, må vi først importere en rekke biblioteker som kan plotte grafer, sammenligne ytelse, osv:\n",
    "\n",
    "<br><br>"
   ]
  },
  {
   "cell_type": "code",
   "execution_count": 528,
   "metadata": {},
   "outputs": [],
   "source": [
    "from pylab import *\n",
    "from scipy import integrate\n",
    "import matplotlib.patches as pt\n",
    "import time"
   ]
  },
  {
   "cell_type": "markdown",
   "metadata": {},
   "source": [
    "<br>\n",
    "Deretter, kan det lages en eksempelfunksjon, f(x), som vi kan foreløpig bruke til å plotte et integral mellom to vilkårlige verdier.\n",
    "<br><br>"
   ]
  },
  {
   "cell_type": "code",
   "execution_count": 608,
   "metadata": {},
   "outputs": [
    {
     "data": {
      "image/png": "[encoded data removed]",
      "text/plain": [
       "<Figure size 432x288 with 1 Axes>"
      ]
     },
     "metadata": {
      "needs_background": "light"
     },
     "output_type": "display_data"
    }
   ],
   "source": [
    "# Testkonstanter\n",
    "A = 2\n",
    "B = 8\n",
    "\n",
    "# Antall inndelinger til metodeeksemplene\n",
    "N = 6\n",
    "\n",
    "# Definerer testfunksjon\n",
    "def f(x):\n",
    "    return sin(x) + 2\n",
    "\n",
    "# Finner funksjonsverdier\n",
    "x = linspace(0, 10, 1000)\n",
    "y = f(x)\n",
    "\n",
    "def plotting(description, integral=integrate.quad(f, A, B)[0], a=A, b=B):\n",
    "    \"\"\" Tar tittel og integralverdi for å plotte f(x) med teoretisk standardverdi. \"\"\"\n",
    "    \n",
    "    title(f'Det bestemte integralet av f(x) fra {a} til {b}')\n",
    "    plot(x, y, color=\"C2\")\n",
    "    xlabel(\"x\")\n",
    "    ylabel(\"f(x)\")\n",
    "    grid(alpha=.25)\n",
    "    axhline(color=\"black\")\n",
    "    axvline(color=\"black\")\n",
    "    tight_layout(pad=0)\n",
    "    ylim(0,3.75)\n",
    "    text(3, .5, integral, fontsize=14)\n",
    "    text(0.5, 3.5, description, fontsize=12,\n",
    "        verticalalignment='top', bbox=dict(facecolor='C0', alpha=0.35))\n",
    "    show()\n",
    "\n",
    "# Fyller arealet i eksempelplottet\n",
    "fill_between(x, f(x), where = [(x > A) and (x < B) for x in x], color=\"C2\", alpha=.75)\n",
    "\n",
    "# Plotter grafen\n",
    "plotting(\"Teoretisk eksempel\")"
   ]
  },
  {
   "cell_type": "markdown",
   "metadata": {},
   "source": [
    "\n",
    "Ovenfor ser vi hvordan et integral oppsamler arealet under f(x), noe vi nå skal gjøre numerisk!\n",
    "<br><br>"
   ]
  },
  {
   "cell_type": "markdown",
   "metadata": {},
   "source": [
    "## Metoder"
   ]
  },
  {
   "cell_type": "markdown",
   "metadata": {},
   "source": [
    "<br>Før vi går inn på en spesifikk metode, definerer jeg en integralklasse med andre typer metoder. Dette kommer alle metodene til å få bruk for, siden de alle går ut på å legge sammen figurers arealer.\n",
    "<br><br>"
   ]
  },
  {
   "cell_type": "code",
   "execution_count": 530,
   "metadata": {},
   "outputs": [],
   "source": [
    "class Integral():\n",
    "    \"\"\" Sammenlegger høyde og returnerer arael gitt en dx. \"\"\"\n",
    "\n",
    "    \n",
    "    def __init__(self):\n",
    "        \"\"\" Setter høyden lik null. \"\"\"\n",
    "        \n",
    "        self.height = 0\n",
    "    \n",
    "    \n",
    "    def add(self, shape):\n",
    "        \"\"\" Legger til høyden gitt et objekt som parameter. \"\"\"\n",
    "        \n",
    "        self.height += shape.height\n",
    "    \n",
    "    \n",
    "    def area(self, dx):\n",
    "        \"\"\" Returnerer et areal gitt en breddekonstant dx. \"\"\"\n",
    "        \n",
    "        return self.height * dx"
   ]
  },
  {
   "cell_type": "markdown",
   "metadata": {},
   "source": [
    "### Rektangelmetoden\n",
    "\n",
    "<br>\n",
    "\n",
    "Rektangelmetoden går ut på å dele funksjonsuttrykket opp i n antall intervaller og sammenlegge deres arealer. Bredden på hvert rektangel blir den totale bredden delt på antall områder, eller som følger:\n",
    "\n",
    "<br>\n",
    "\n",
    "$$\\Delta x = \\frac{b - a}{n}$$\n",
    "\n",
    "<br>\n",
    "\n",
    "Da finner vi funksjonsverdien i det første punktet, a, og antar at verdien holder seg lik i et lite område $\\Delta x$. Funksjonsverdien er altså høyden i rektangelet som vi kan gange sammen med bredden for å få oss et areal. Fortsetter vi slik for rektangelet som starter ved $x = a + \\Delta x$ i alle n inndelinger, kan vi få et tilnærmet integral som følger:\n",
    "\n",
    "<br>\n",
    "\n",
    "$$\\int_{a}^{b} f(x) dx \\approx \\sum_{k=0}^{n-1} f(x_k) \\Delta x = \\Delta x \\sum_{k=0}^{n-1} f(x_k)$$\n",
    "\n",
    "<br>\n",
    "\n",
    "Her kan det bemerkes at vi slipper å gange hver høyde med $\\Delta x$ og kan istedenfor finne summen av funksjonsverdiene og deretter gange dette med denne konstanten $\\Delta x$.\n",
    "\n",
    "<br>"
   ]
  },
  {
   "cell_type": "code",
   "execution_count": 531,
   "metadata": {},
   "outputs": [
    {
     "data": {
      "image/png": "[encoded data removed]",
      "text/plain": [
       "<Figure size 432x288 with 1 Axes>"
      ]
     },
     "metadata": {
      "needs_background": "light"
     },
     "output_type": "display_data"
    }
   ],
   "source": [
    "class Rectangle():\n",
    "    \"\"\" Rektangelklasse med høyde og som tegner rektangler. \"\"\"\n",
    "    \n",
    "    def __init__(self, f, x):\n",
    "        \"\"\" Definerer egen høyde. \"\"\"\n",
    "\n",
    "        self.height = f(x)\n",
    "    \n",
    "    \n",
    "    def draw(self, x, dx):\n",
    "        \"\"\" Bruker matplotlib.patches til å tegne rektangler. \"\"\"\n",
    "        \n",
    "        gca().add_patch(pt.Rectangle((x, 0), dx, self.height, color=\"C2\", alpha=.75))\n",
    "\n",
    "        \n",
    "def rektangelmetoden(f, a=A, b=B, n=N, draw=True):\n",
    "    \"\"\" Definerer rektangelmetoden gitt funksjonsuttrykk, to punkter og antall inndelinger. \"\"\"\n",
    "    \n",
    "    # Definerer dx ut ifra definisjonen\n",
    "    dx = (b - a) / n\n",
    "    \n",
    "    # Definerer et integral\n",
    "    Rektangelmetoden = Integral()\n",
    "    \n",
    "    # Går igjennom antall inndelinger og legger areal til i integralet\n",
    "    # Sjekker draw 1 gang for forbedret ytelse\n",
    "    if draw:\n",
    "        for k in range(n):\n",
    "            rektangel = Rectangle(f, a + k * dx)\n",
    "            rektangel.draw(a + k * dx, dx)\n",
    "            Rektangelmetoden.add(rektangel)\n",
    "    else:\n",
    "        for k in range(n):\n",
    "            Rektangelmetoden.add(Rectangle(f, a + k * dx))\n",
    "    \n",
    "    # Returnerer arealet gitt bredden dx\n",
    "    return Rektangelmetoden.area(dx)\n",
    "\n",
    "plotting(\"Rektangelmetoden\", rektangelmetoden(f))"
   ]
  },
  {
   "cell_type": "markdown",
   "metadata": {},
   "source": [
    "### Trapesmetoden\n",
    "\n",
    "<br>\n",
    "\n",
    "Istedenfor et nulltegradspolynom, kan vi istedenfor benytte oss av et førstegradspolynom for å finne arealet under grafen. For å gjøre det, deler vi opp arealet i de samme n delene, men finner arealet til trapesene imellom dem istedenfor. Dette krever at vi finner funksjonsverdien for to punkter for hvert trapes: en på starten og en på slutten. Heldigvis vil mange av disse punktene samsvare, noe som gjør at vi kan forenkle det generelle uttrykket for arealet til trapeser, der k er antall $\\Delta x$ til en vilkårlig trapes:\n",
    "\n",
    "<br>\n",
    "\n",
    "$$A_k = \\frac{(a + k \\Delta x) + (a + (k + 1) \\Delta x)}{2} \\Delta x$$\n",
    "\n",
    "<br>\n",
    "\n",
    "Her finner vi gjennomsnittsfunksjonsverdien og ganger den med bredden $\\Delta x$. Dette må vi gjøre for alle k-verdier fra 0 til N (ekslusivt), og det kan forenkles hvis vi skriver opp og faktoriserer uttrykket først uten summetegn (bemerk at $f(a + n\\Delta x) = f(b)$):\n",
    "\n",
    "<br>\n",
    "\n",
    "$$\\int_{a}^{b} f(x) dx \\approx \\Delta x \\frac{f(a) + f(a + \\Delta x)}{2} + \\Delta x \\frac{f(a + \\Delta x) + f(a + 2 \\Delta x)}{2} + . . . + \\Delta x \\frac{f(a + (n - 1)\\Delta x) + f(b)}{2}$$\n",
    "\n",
    "$$\\approx \\Delta x (\\frac{f(a) + f(a + \\Delta x)}{2} +  \\frac{f(a + \\Delta x) + f(a + 2 \\Delta x)}{2} + . . . + \\frac{f(a + (n - 1)\\Delta x) + f(b)}{2})$$\n",
    "\n",
    "$$\\approx \\Delta x (\\frac{f(a) + f(a + \\Delta x) + f(a + \\Delta x) + f(a + 2 \\Delta x) + . . . + f(a + (n - 1)\\Delta x) + f(b)}{2})$$\n",
    "\n",
    "$$\\approx \\Delta x (\\frac{f(a) + 2f(a + \\Delta x) + 2f(a + 2 \\Delta x) + . . . + 2f(a + (n - 1)\\Delta x) + f(b)}{2})$$\n",
    "\n",
    "<br>\n",
    "\n",
    "Får vi disse på fellesnevner, ser vi nemlig at vi må addere hver funksjonsverdi to ganger før vi deler på to, med unntak av f(a) og f(b). Dette gjør beregningene videre enklere:\n",
    "\n",
    "<br>\n",
    "\n",
    "$$\\approx \\Delta x (\\frac{f(a) + f(b)}{2} + \\frac{2f(a + \\Delta x) + 2f(a + 2 \\Delta x) + . . . + 2f(a + (n - 1)\\Delta x)}{2})$$\n",
    "\n",
    "$$\\approx \\Delta x (\\frac{f(a) + f(b)}{2} + f(a + \\Delta x) + f(a + 2 \\Delta x) + . . . + f(a + (n - 1)\\Delta x))$$\n",
    "\n",
    "$$\\approx \\Delta x (\\frac{f(a) + f(b)}{2} + \\sum_{k=1}^{n - 1} f(a + k\\Delta x))$$\n",
    "\n",
    "$$\\approx \\Delta x (\\frac{f(a) + f(b)}{2} + \\sum_{k=1}^{n - 1} f(x_k))$$\n",
    "\n",
    "<br>\n",
    "<br>\n",
    "\n",
    "Vi kan dermed forbedre ytelsen ved å summere gjennomsnitsfunksjonsverdien til a og b med funksjonsverdiene til oppdelingene imellom som vi til slutt ganger med bredden, $\\Delta x$. Det kan vi gjøre som følger:\n",
    "\n",
    "<br>"
   ]
  },
  {
   "cell_type": "code",
   "execution_count": 532,
   "metadata": {},
   "outputs": [
    {
     "data": {
      "image/png": "[encoded data removed]",
      "text/plain": [
       "<Figure size 432x288 with 1 Axes>"
      ]
     },
     "metadata": {
      "needs_background": "light"
     },
     "output_type": "display_data"
    }
   ],
   "source": [
    "class Trapezoid():\n",
    "    \"\"\" Trapesklasse med høyde og som tegner trapeser. \"\"\"\n",
    "    \n",
    "    def __init__(self, f, x):\n",
    "        \"\"\" Definerer egen høyde. \"\"\"\n",
    "        \n",
    "        self.height = f(x)\n",
    "    \n",
    "    \n",
    "    def draw(self, x, dx, fdx):\n",
    "        \"\"\" Bruker matplotlib.patches til å tegne trapeser. \"\"\"\n",
    "        \n",
    "        gca().add_patch(pt.Polygon(([x, 0], [x + dx, 0], [x + dx, fdx], [x, self.height]),\\\n",
    "                                   color=\"C2\", alpha=.75))\n",
    "\n",
    "def trapesmetoden(f, a=A, b=B, n=N, draw=True):\n",
    "    \"\"\" Definerer trapesmetoden gitt funksjonsuttrykk, to punkter og antall inndelinger. \"\"\"\n",
    "    \n",
    "    # Definerer dx ut ifra definisjonen\n",
    "    dx = (b - a) / n\n",
    "    \n",
    "    # Definerer et integral\n",
    "    Trapesmetoden = Integral()\n",
    "    \n",
    "    # Definerer nullte trapes som senere hoppes over\n",
    "    Kantareal = Trapezoid(f, a)\n",
    "    \n",
    "    # Går igjennom antall inndelinger bortsett fra den første og legger areal til i integralet\n",
    "    # Sjekker draw 1 gang for forbedret ytelse\n",
    "    \n",
    "    if draw:\n",
    "        # Tegner trapeset\n",
    "        Kantareal.draw(a, dx, f(a + dx))\n",
    "        \n",
    "        for k in range(1, n):\n",
    "            trapes = Trapezoid(f, a + k * dx)\n",
    "            trapes.draw(a + k * dx, dx, f(a + k * dx + dx))\n",
    "            Trapesmetoden.add(trapes)\n",
    "    else:\n",
    "        for k in range(1, n):\n",
    "            Trapesmetoden.add(Trapezoid(f, a + k * dx))\n",
    "    \n",
    "    # Overskrider høydeverdien til den definerte\n",
    "    Kantareal.height = (f(a) + f(b)) / 2\n",
    "    \n",
    "    # Legger til arealet\n",
    "    Trapesmetoden.add(Kantareal)\n",
    "    \n",
    "    # Returnerer arealet gitt bredden dx\n",
    "    return Trapesmetoden.area(dx)\n",
    "\n",
    "plotting(\"Trapesmetoden\", trapesmetoden(f))"
   ]
  },
  {
   "cell_type": "markdown",
   "metadata": {},
   "source": [
    "### Simpsons metode\n",
    "\n",
    "<br>\n",
    "\n",
    "Simpsons metode går ut på å øke polynomgraden en gang til. For å approksimere et annengradspolynom, trenger vi tre punkter som vi må få på formen:\n",
    "\n",
    "<br>\n",
    "\n",
    "$$P(x) = Ax^2 + Bx + C$$\n",
    "\n",
    "<br>\n",
    "\n",
    "For å få det til, deler vi igjen inn integralet i like mange deler, men her må antallet være partall. Det er fordi vi kommer til å estimere integralet for to områder av gangen. Men for å forklare det, trengs en liten illustrasjon:\n",
    "\n",
    "<br>"
   ]
  },
  {
   "cell_type": "code",
   "execution_count": 533,
   "metadata": {},
   "outputs": [
    {
     "data": {
      "image/png": "[encoded data removed]",
      "text/plain": [
       "<Figure size 432x288 with 1 Axes>"
      ]
     },
     "metadata": {
      "needs_background": "light"
     },
     "output_type": "display_data"
    }
   ],
   "source": [
    "# Her definerer jeg en vilkårlig funksjon og plotter ulike titler osv.:\n",
    "def p(x):\n",
    "    return - x**2 + 2*x + 100\n",
    "\n",
    "q = linspace(-10, 10, 1000)\n",
    "r = p(q)\n",
    "\n",
    "plot(q,r, color=\"C0\")\n",
    "title(f'Vilkårlig andregradspolynom')\n",
    "xlabel(\"x\")\n",
    "ylabel(\"P(x)\")\n",
    "grid(alpha=.25)\n",
    "axhline(color=\"black\")\n",
    "axvline(color=\"black\", alpha=.5)\n",
    "text(-3, -11, \"dx\", fontsize=13)\n",
    "text(2, -11, \"dx\", fontsize=13)\n",
    "text(-7.5, 72, \"(-dx, y0)\", fontsize=13)\n",
    "text(-2.5, 105, \"(0, y1)\", fontsize=13)\n",
    "text(4, 95, \"(dx, y2)\", fontsize=13)\n",
    "tight_layout(pad=0)\n",
    "fill_between(q, r, where = [(i < 5) and (i > -5) for i in q], color=\"C0\", alpha=.75)\n",
    "xlim(-10,10)\n",
    "ylim(-20,115)\n",
    "show()"
   ]
  },
  {
   "cell_type": "markdown",
   "metadata": {},
   "source": [
    "Har vi tre jevnt fordelte punkter, kan vi starte med å forskyve punktene slik at det midterste, $y_1$, lander på y-aksen. Integralet til kurven forblir det samme siden funksjonsverdiene til $P(x)$ er fremdeles $y_0$, $y_1$ og $y_2$.\n",
    "\n",
    "<br>\n",
    "\n",
    "Nå kan vi sette inn disse tre x-verdiene inn i P(x) og få uttrykk for y-verdiene:\n",
    "\n",
    "<br>\n",
    "\n",
    "$$y_0 = A(-\\Delta x)^2 + B(-\\Delta x) + C$$\n",
    "$$y_0 = A\\Delta x^2 - B\\Delta x + C$$\n",
    "\n",
    "$$y_1 = A(0)^2 + B(0) + C$$\n",
    "$$y_1 = C$$\n",
    "\n",
    "$$y_2 = A(\\Delta x)^2 + B(\\Delta x) + C$$\n",
    "$$y_2 = A\\Delta x^2 + B\\Delta x + C$$\n",
    "\n",
    "<br>\n",
    "\n",
    "Legger vi nå sammen noen av disse uttrykkene, kan vi få fjernet B og få et nytt uttrykk vi får bruk for snart:\n",
    "\n",
    "<br>\n",
    "\n",
    "$$y_0 + 4y_1 + y_2 = (A\\Delta x^2 - B\\Delta x + C) + 4(C) + (A\\Delta x^2 + B\\Delta x + C)$$\n",
    "$$y_0 + 4y_1 + y_2 = 2A\\Delta x^2 + 6C$$\n",
    "\n",
    "<br>\n",
    "\n",
    "Dessverre trenger vi nå litt analytisk matematikk for å finne integralet til $P(x)$ direkte:\n",
    "\n",
    "<br>\n",
    "\n",
    "$$\\int_{-\\Delta x}^{\\Delta x} P(x) dx = \\int_{-\\Delta x}^{\\Delta x} Ax^2 + Bx + C dx$$\n",
    "$$= [\\frac{1}{3}Ax^3 + \\frac{1}{2}Bx^2 + Cx]_{-\\Delta x}^{\\Delta x}$$\n",
    "$$= \\frac{1}{3}A\\Delta x^3 + \\frac{1}{2}B\\Delta x^2 + C\\Delta x - (\\frac{1}{3}A(-\\Delta x)^3 + \\frac{1}{2}B(-\\Delta x)^2 - C\\Delta x)$$\n",
    "$$= \\frac{1}{3}A\\Delta x^3 + \\frac{1}{2}B\\Delta x^2 + C\\Delta x - (-\\frac{1}{3}A\\Delta x^3 + \\frac{1}{2}B\\Delta x^2 - C\\Delta x)$$\n",
    "$$= \\frac{2}{3}A\\Delta x^3 + 2C\\Delta x$$\n",
    "$$= \\frac{\\Delta x}{3}(2A\\Delta x^2 + 6C)$$\n",
    "\n",
    "<br>\n",
    "\n",
    "Nå kan vi endelig erstatte $2A\\Delta x^2 + 6C$ med $y_0 + 4y_1 + y_2$ og finne et uttrykk vi kan integrere numerisk, nemlig følgende:\n",
    "\n",
    "$$= \\frac{\\Delta x}{3}(y_0 + 4y_1 + y_2)$$\n",
    "\n",
    "Da er det bare å gjøre litt ren forkorting som vi gjorde ved trapesmetoden for å finne et uttrykk for integralet mellom alle n punkter mellom a og b, ikke bare disse tre. Vi starter ved å legge til det neste parabelets y-verdier og går videre derfra:\n",
    "\n",
    "$$\\int_{a}^{b} f(x) dx \\approx \\frac{\\Delta x}{3}(y_0 + 4y_1 + y_2) + \\frac{\\Delta x}{3}(y_2 + 4y_3 + y_4) + \\frac{\\Delta x}{3}(y_4 + 4y_5 + y_6) + . . . + \\frac{\\Delta x}{3}(y_{n - 2} + 4y_{n - 1} + y_n)$$\n",
    "\n",
    "$$\\approx \\frac{\\Delta x}{3}(y_0 + 4y_1 + y_2 + y_2 + 4y_3 + y_4 + y_4 + 4y_5 + y_6 + . . . + y_{n - 2} + 4y_{n - 1} + y_n)$$\n",
    "$$\\approx \\frac{\\Delta x}{3}(y_0 + 4y_1 + 2y_2 + 4y_3 + 2y_4 + 4y_5 + 2y_6 + . . . + 2y_{n - 2} + 4y_{n - 1} + y_n)$$\n",
    "\n",
    "<br>\n",
    "\n",
    "Her observerer vi hver partalls-y fra og med 2 til og med n - 2 har 2 som koeffisient mens hver oddetals-y har 4 som koeffisient. Igjen, må $y_n$, eller $f(b)$, være partall for at metoden skal virke. Da kan vi forkorte som følger:\n",
    "\n",
    "<br>\n",
    "\n",
    "$$\\approx \\frac{\\Delta x}{3}(y_0 + y_n + 2y_2 + 2y_4 + 2y_6 + . . . + 2y_{n - 2} + 4y_1 + 4y_3 + 4y_5 + . . . + 4y_{n - 1})$$\n",
    "\n",
    "$$\\approx \\frac{\\Delta x}{3}(y_0 + y_n + 2 \\sum_{k=1}^{\\frac{n}{2} - 1} y_{2k} + 4 \\sum_{k=1}^{\\frac{n}{2}} y_{2k - 1})$$\n",
    "\n",
    "$$\\approx \\frac{\\Delta x}{3}(f(a) + f(b) + 2 \\sum_{k=1}^{\\frac{n}{2} - 1} f(x_{2k}) + 4 \\sum_{k=1}^{\\frac{n}{2}} f(x_{2k - 1}))$$\n",
    "\n",
    "<br>\n",
    "\n",
    "Og dette, dette kan vi endelig bruke!"
   ]
  },
  {
   "cell_type": "code",
   "execution_count": 534,
   "metadata": {},
   "outputs": [
    {
     "data": {
      "image/png": "[encoded data removed]",
      "text/plain": [
       "<Figure size 432x288 with 1 Axes>"
      ]
     },
     "metadata": {
      "needs_background": "light"
     },
     "output_type": "display_data"
    }
   ],
   "source": [
    "class Polynomial():\n",
    "    \"\"\" Polynomklasse med høyde og som tegner polynomintegraler. \"\"\"\n",
    "    \n",
    "    def __init__(self, f, x):\n",
    "        \"\"\" Definerer egen høyde. \"\"\"\n",
    "        \n",
    "        self.height = f(x)\n",
    "\n",
    "    def draw(self, f, x, dx):\n",
    "        \"\"\" Finner polynomkonstanter ved å omordne likningene for y0, y1 og y2 ovenfor. \"\"\"\n",
    "        \n",
    "        C = f(x + dx)\n",
    "        A = (f(x) - 2 * C + f(x + 2 * dx)) / (2 * dx ** 2)\n",
    "        B = (A * dx ** 2 - f(x) + C) / dx\n",
    "        \n",
    "        # Definerer andregradspolynom\n",
    "        def h(i):\n",
    "            return A * i ** 2 + B * i + C\n",
    "        \n",
    "        # Finner verdiene til parabelen fra -dx til dx\n",
    "        g = linspace(-dx, dx, 100)\n",
    "        \n",
    "        # Forskyver verdiene fra y-aksen til deres riktig sted og fyller inn arealet\n",
    "        fill_between(g + x + dx, h(g), color=\"C2\", alpha=.75)\n",
    "\n",
    "\n",
    "def simpsonsmetode(f, a=A, b=B, n=N, draw=True):\n",
    "    \"\"\" Definerer simpsons metode gitt funksjonsuttrykk, to punkter og antall inndelinger. \"\"\"\n",
    "    \n",
    "    # Definerer dx ut ifra definisjonen\n",
    "    dx = (b - a) / n\n",
    "    \n",
    "    # Definerer et integral\n",
    "    Simpsonsmetode = Integral()\n",
    "    \n",
    "    # Definerer nullte polynom som senere hoppes over\n",
    "    Startareal = Polynomial(f, a)\n",
    "    \n",
    "    # Sjekker draw 1 gang for forbedret ytelse\n",
    "    if draw:\n",
    "        # Tegner startspolynomet\n",
    "        Startareal.draw(f, a, dx)\n",
    "        \n",
    "        for k in range(1, n):\n",
    "            scale = Polynomial(f, a + k * dx)\n",
    "            scale.height *= 2\n",
    "            if k % 2 == 1:\n",
    "                scale.height *= 2\n",
    "            else:\n",
    "                scale.draw(f, a + k * dx, dx)\n",
    "            Simpsonsmetode.add(scale)\n",
    "    else:\n",
    "        for k in range(1, n):\n",
    "            scale = Polynomial(f, a + k * dx)\n",
    "            scale.height *= 2\n",
    "            if k % 2 == 1:\n",
    "                scale.height *= 2\n",
    "            Simpsonsmetode.add(scale)\n",
    "    \n",
    "    # Overskrider høydeverdien til den definerte\n",
    "    Startareal.height = f(a) + f(b)\n",
    "    \n",
    "    # Legger til arealet\n",
    "    Simpsonsmetode.add(Startareal)\n",
    "    \n",
    "    return Simpsonsmetode.area(dx / 3)\n",
    "\n",
    "plotting(\"Simpsons metode\", simpsonsmetode(f))"
   ]
  },
  {
   "cell_type": "markdown",
   "metadata": {},
   "source": [
    "### Monte Carlo-integrasjon\n",
    "\n",
    "<br>\n",
    "\n",
    "Monte Carlo-integrasjon er en probabilistisk måte å finne arealet til en funksjon på. Istedenfor å sammelegge små arealer, fokuserer heller metoden på å finne en gjennomsnittlig funksjonsverdi over intervallet [a, b] som kan ganges med intervallengden (b - a) for å finne et integral. Det kan noteres som følger:\n",
    "\n",
    "<br>\n",
    "\n",
    "$$\\int_{a}^{b} f(x) dx \\approx \\int_{a}^{b} f(\\bar{x}) dx$$\n",
    "\n",
    "$$\\approx (b - a)\\sum_{k=1}^{n} f(x_k) \\frac{1}{n} $$\n",
    "\n",
    "$$\\approx \\frac{(b - a)}{n}\\sum_{k=1}^{n} f(x_k)$$\n",
    "\n",
    "<br>\n",
    "\n",
    "Dette gjør vi nokså enkelt ved en random-funksjon som vi får importert til å gi oss en gjennomsnittlig funksjonsverdi."
   ]
  },
  {
   "cell_type": "code",
   "execution_count": 535,
   "metadata": {},
   "outputs": [
    {
     "data": {
      "image/png": "[encoded data removed]",
      "text/plain": [
       "<Figure size 432x288 with 1 Axes>"
      ]
     },
     "metadata": {
      "needs_background": "light"
     },
     "output_type": "display_data"
    }
   ],
   "source": [
    "class Value():\n",
    "    \"\"\" Verdiklasse med høyde \"\"\"\n",
    "    \n",
    "    def __init__(self, f, x):\n",
    "        \"\"\" Definerer egen høyde. \"\"\"\n",
    "        \n",
    "        self.height = f(x)\n",
    "\n",
    "\n",
    "def montecarlo(f, a=A, b=B, n=N, draw=True):\n",
    "    \"\"\" Definerer Monte Carlo-metoden gitt funksjonsuttrykk, to punkter og antall inndelinger. \"\"\"\n",
    "    \n",
    "    # Definerer dx mellom a og b\n",
    "    dx = (b - a)\n",
    "    \n",
    "    # Definerer et integral\n",
    "    Montecarlo = Integral()\n",
    "    \n",
    "    for i in range(n):\n",
    "        Montecarlo.add(Value(f,(random() * dx + a)))\n",
    "    \n",
    "    if draw:\n",
    "        gca().add_patch(pt.Rectangle((a, 0), dx, Montecarlo.area(dx / n) / dx, color=\"C2\", alpha=.75))\n",
    "    \n",
    "    return Montecarlo.area(dx / n)\n",
    "\n",
    "plotting(\"Monte Carlo-Integrasjon\", montecarlo(f))"
   ]
  },
  {
   "cell_type": "markdown",
   "metadata": {},
   "source": [
    "## Sammenlikning\n",
    "\n",
    "<br>\n",
    "\n",
    "Nå kan vi sammenlikne de fire ulike integrasjonsmetodene og veie opp forskjeller. Da kommer jeg til å brukke en rekke forksjellige funksjoner, i tilleg til ulik antall inndelinger.\n",
    "\n",
    "<br>\n",
    "\n",
    "Først, kan vi definere en generell sjekkfunksjon og fem funksjoner vi kan sjekke:\n",
    "\n",
    "<br>"
   ]
  },
  {
   "cell_type": "code",
   "execution_count": 626,
   "metadata": {},
   "outputs": [],
   "source": [
    "# Funksjoner\n",
    "def e(x):\n",
    "    return 5\n",
    "\n",
    "\n",
    "def g(x):\n",
    "    return 5 * x + 3\n",
    "\n",
    "\n",
    "def h(x):\n",
    "    return 3 * x ** 2 + x - 6\n",
    "\n",
    "\n",
    "def i(x):\n",
    "    return 8 * x ** 5 - 7 * x ** 4 + 3 * x ** 2 + 23\n",
    "\n",
    "\n",
    "def j(x):\n",
    "    return cos(x) ** 2\n",
    "\n",
    "\n",
    "def sjekk(f, metode, title, N, A=A, B=B):\n",
    "    \"\"\" Returnerer resultater fra flere gjennomganger\"\"\"\n",
    "    \n",
    "    data = f'{title}\\n\\n{\"{:<15}\".format(\"N\")}{\"{:<15}\".format(\"Integral\")}{\"{:<15}\".format(\"Time\")}\\n'\n",
    "    \n",
    "    # Går igjennom samme funksjon for ulike N-verdier\n",
    "    for i in range(N):\n",
    "        start = time.time()\n",
    "        result = \"{:<15}\".format(10**i) + \"{:<15}\".format(round(metode(f, A, B, 10**i, False), 4))\n",
    "        data += result + \"{:<15}\".format(round(time.time() - start, 4)) + \"\\n\"\n",
    "    \n",
    "    # Returnerer data\n",
    "    return data"
   ]
  },
  {
   "cell_type": "markdown",
   "metadata": {},
   "source": [
    "<br>\n",
    "\n",
    "Nå kan vi sammenligne resultetene til integralet til nulltegradspolynomet e(x) mellom A = 2 og B = 8:\n",
    "\n",
    "<br>"
   ]
  },
  {
   "cell_type": "code",
   "execution_count": 621,
   "metadata": {},
   "outputs": [
    {
     "name": "stdout",
     "output_type": "stream",
     "text": [
      "Rektangelmetoden\n",
      "\n",
      "N              Integral       Time           \n",
      "1              30.0           0.0            \n",
      "10             30.0           0.0            \n",
      "100            30.0           0.0001         \n",
      "1000           30.0           0.0008         \n",
      "10000          30.0           0.0094         \n",
      "100000         30.0           0.1079         \n",
      "1000000        30.0           0.8236         \n",
      "\n",
      "Trapesmetoden\n",
      "\n",
      "N              Integral       Time           \n",
      "1              30.0           0.0            \n",
      "10             30.0           0.0            \n",
      "100            30.0           0.0001         \n",
      "1000           30.0           0.0008         \n",
      "10000          30.0           0.0084         \n",
      "100000         30.0           0.081          \n",
      "1000000        30.0           0.8538         \n",
      "\n",
      "Simpsons metode\n",
      "\n",
      "N              Integral       Time           \n",
      "1              20.0           0.0            \n",
      "10             30.0           0.0            \n",
      "100            30.0           0.0001         \n",
      "1000           30.0           0.0011         \n",
      "10000          30.0           0.0123         \n",
      "100000         30.0           0.1219         \n",
      "1000000        30.0           1.2103         \n",
      "\n",
      "Monte Carlo\n",
      "\n",
      "N              Integral       Time           \n",
      "1              30.0           0.0001         \n",
      "10             30.0           0.0004         \n",
      "100            30.0           0.0006         \n",
      "1000           30.0           0.0013         \n",
      "10000          30.0           0.0124         \n",
      "100000         30.0           0.1456         \n",
      "1000000        30.0           1.7019         \n",
      "\n",
      "Integral: 30.0\n"
     ]
    }
   ],
   "source": [
    "print(sjekk(e, rektangelmetoden, \"Rektangelmetoden\", 7))\n",
    "print(sjekk(e, trapesmetoden, \"Trapesmetoden\", 7))\n",
    "print(sjekk(e, simpsonsmetode, \"Simpsons metode\", 7))\n",
    "print(sjekk(e, montecarlo, \"Monte Carlo\", 7))\n",
    "print(f'Integral: {integrate.quad(e, A, B)[0]}')"
   ]
  },
  {
   "cell_type": "markdown",
   "metadata": {},
   "source": [
    "<br>\n",
    "\n",
    "Så kan vi sammenligne resultetene til integralet til førstegradspolynomet g(x) mellom A = 2 og B = 8:\n",
    "\n",
    "<br>"
   ]
  },
  {
   "cell_type": "code",
   "execution_count": 622,
   "metadata": {},
   "outputs": [
    {
     "name": "stdout",
     "output_type": "stream",
     "text": [
      "Rektangelmetoden\n",
      "\n",
      "N              Integral       Time           \n",
      "1              78.0           0.0            \n",
      "10             159.0          0.0            \n",
      "100            167.1          0.0001         \n",
      "1000           167.91         0.0009         \n",
      "10000          167.991        0.0165         \n",
      "100000         167.9991       0.1086         \n",
      "1000000        167.9999       0.9391         \n",
      "\n",
      "Trapesmetoden\n",
      "\n",
      "N              Integral       Time           \n",
      "1              168.0          0.0            \n",
      "10             168.0          0.0            \n",
      "100            168.0          0.0001         \n",
      "1000           168.0          0.0018         \n",
      "10000          168.0          0.017          \n",
      "100000         168.0          0.1127         \n",
      "1000000        168.0          1.1151         \n",
      "\n",
      "Simpsons metode\n",
      "\n",
      "N              Integral       Time           \n",
      "1              112.0          0.0            \n",
      "10             168.0          0.0            \n",
      "100            168.0          0.0001         \n",
      "1000           168.0          0.0012         \n",
      "10000          168.0          0.0137         \n",
      "100000         168.0          0.1351         \n",
      "1000000        168.0          2.04           \n",
      "\n",
      "Monte Carlo\n",
      "\n",
      "N              Integral       Time           \n",
      "1              149.4781       0.0            \n",
      "10             191.9495       0.0            \n",
      "100            175.5977       0.0015         \n",
      "1000           165.6827       0.0015         \n",
      "10000          168.0214       0.0182         \n",
      "100000         167.7936       0.159          \n",
      "1000000        167.9215       1.9245         \n",
      "\n",
      "Integral: 168.0\n"
     ]
    }
   ],
   "source": [
    "print(sjekk(g, rektangelmetoden, \"Rektangelmetoden\", 7))\n",
    "print(sjekk(g, trapesmetoden, \"Trapesmetoden\", 7))\n",
    "print(sjekk(g, simpsonsmetode, \"Simpsons metode\", 7))\n",
    "print(sjekk(g, montecarlo, \"Monte Carlo\", 7))\n",
    "print(f'Integral: {integrate.quad(g, A, B)[0]}')"
   ]
  },
  {
   "cell_type": "markdown",
   "metadata": {},
   "source": [
    "<br>\n",
    "\n",
    "Så kan vi sammenligne resultetene til integralet til andregradspolynomet h(x) mellom A = 2 og B = 8:\n",
    "\n",
    "<br>"
   ]
  },
  {
   "cell_type": "code",
   "execution_count": 623,
   "metadata": {},
   "outputs": [
    {
     "name": "stdout",
     "output_type": "stream",
     "text": [
      "Rektangelmetoden\n",
      "\n",
      "N              Integral       Time           \n",
      "1              48.0           0.0            \n",
      "10             443.28         0.0            \n",
      "100            492.4308       0.0002         \n",
      "1000           497.4421       0.002          \n",
      "10000          497.9442       0.0191         \n",
      "100000         497.9944       0.1256         \n",
      "1000000        497.9994       1.1594         \n",
      "\n",
      "Trapesmetoden\n",
      "\n",
      "N              Integral       Time           \n",
      "1              606.0          0.0            \n",
      "10             499.08         0.0            \n",
      "100            498.0108       0.0001         \n",
      "1000           498.0001       0.0014         \n",
      "10000          498.0          0.0134         \n",
      "100000         498.0          0.1171         \n",
      "1000000        498.0          1.4172         \n",
      "\n",
      "Simpsons metode\n",
      "\n",
      "N              Integral       Time           \n",
      "1              404.0          0.0            \n",
      "10             498.0          0.0            \n",
      "100            498.0          0.0002         \n",
      "1000           498.0          0.0015         \n",
      "10000          498.0          0.0173         \n",
      "100000         498.0          0.1673         \n",
      "1000000        498.0          1.8265         \n",
      "\n",
      "Monte Carlo\n",
      "\n",
      "N              Integral       Time           \n",
      "1              138.8142       0.0            \n",
      "10             596.8625       0.0001         \n",
      "100            488.71         0.0009         \n",
      "1000           490.1665       0.0025         \n",
      "10000          506.4924       0.0207         \n",
      "100000         496.3295       0.1886         \n",
      "1000000        498.7304       2.3537         \n",
      "\n",
      "Integral: 498.0000000000001\n"
     ]
    }
   ],
   "source": [
    "print(sjekk(h, rektangelmetoden, \"Rektangelmetoden\", 7))\n",
    "print(sjekk(h, trapesmetoden, \"Trapesmetoden\", 7))\n",
    "print(sjekk(h, simpsonsmetode, \"Simpsons metode\", 7))\n",
    "print(sjekk(h, montecarlo, \"Monte Carlo\", 7))\n",
    "print(f'Integral: {integrate.quad(h, A, B)[0]}')"
   ]
  },
  {
   "cell_type": "markdown",
   "metadata": {},
   "source": [
    "<br>\n",
    "\n",
    "Så kan vi sammenligne resultetene til integralet til polynomet i(x) mellom A = 2 og B = 8:\n",
    "\n",
    "<br>"
   ]
  },
  {
   "cell_type": "code",
   "execution_count": 627,
   "metadata": {},
   "outputs": [
    {
     "name": "stdout",
     "output_type": "stream",
     "text": [
      "Rektangelmetoden\n",
      "\n",
      "N              Integral       Time           \n",
      "1              1074.0         0.0            \n",
      "10             238667.9174    0.0            \n",
      "100            297291.0967    0.0002         \n",
      "1000           303551.5234    0.0025         \n",
      "10000          304181.5521    0.0155         \n",
      "100000         304244.5948    0.1623         \n",
      "1000000        304250.8995    1.4258         \n",
      "\n",
      "Trapesmetoden\n",
      "\n",
      "N              Integral       Time           \n",
      "1              701598.0       0.0            \n",
      "10             308720.3174    0.0            \n",
      "100            304296.3367    0.0002         \n",
      "1000           304252.0474    0.0018         \n",
      "10000          304251.6045    0.0175         \n",
      "100000         304251.6       0.1907         \n",
      "1000000        304251.6       1.4657         \n",
      "\n",
      "Simpsons metode\n",
      "\n",
      "N              Integral       Time           \n",
      "1              467732.0       0.0            \n",
      "10             304271.6102    0.0            \n",
      "100            304251.602     0.0002         \n",
      "1000           304251.6       0.0023         \n",
      "10000          304251.6       0.0209         \n",
      "100000         304251.6       0.1888         \n",
      "1000000        304251.6       1.8497         \n",
      "\n",
      "Monte Carlo\n",
      "\n",
      "N              Integral       Time           \n",
      "1              80482.8179     0.0            \n",
      "10             378807.7658    0.0001         \n",
      "100            266283.7601    0.0012         \n",
      "1000           303777.1641    0.0027         \n",
      "10000          304788.4581    0.0196         \n",
      "100000         304699.3388    0.2041         \n",
      "1000000        304318.2058    2.6758         \n",
      "\n",
      "Integral: 304251.6\n"
     ]
    }
   ],
   "source": [
    "print(sjekk(i, rektangelmetoden, \"Rektangelmetoden\", 7))\n",
    "print(sjekk(i, trapesmetoden, \"Trapesmetoden\", 7))\n",
    "print(sjekk(i, simpsonsmetode, \"Simpsons metode\", 7))\n",
    "print(sjekk(i, montecarlo, \"Monte Carlo\", 7))\n",
    "print(f'Integral: {integrate.quad(i, A, B)[0]}')"
   ]
  },
  {
   "cell_type": "markdown",
   "metadata": {},
   "source": [
    "<br>\n",
    "\n",
    "Til slutt kan vi sammenligne resultetene til integralet til cosinusfunksjonen j(x) mellom A = 2 og B = 8:\n",
    "\n",
    "<br>"
   ]
  },
  {
   "cell_type": "code",
   "execution_count": 629,
   "metadata": {},
   "outputs": [
    {
     "name": "stdout",
     "output_type": "stream",
     "text": [
      "Rektangelmetoden\n",
      "\n",
      "N              Integral       Time           \n",
      "1              1.0391         0.0001         \n",
      "10             3.1484         0.0001         \n",
      "100            3.1216         0.0004         \n",
      "1000           3.1177         0.0049         \n",
      "10000          3.1173         0.0433         \n",
      "100000         3.1172         0.4179         \n",
      "1000000        3.1172         4.2131         \n",
      "\n",
      "Trapesmetoden\n",
      "\n",
      "N              Integral       Time           \n",
      "1              0.583          0.0001         \n",
      "10             3.1028         0.0001         \n",
      "100            3.1171         0.0004         \n",
      "1000           3.1172         0.0036         \n",
      "10000          3.1172         0.0382         \n",
      "100000         3.1172         0.3929         \n",
      "1000000        3.1172         4.6311         \n",
      "\n",
      "Simpsons metode\n",
      "\n",
      "N              Integral       Time           \n",
      "1              0.3887         0.0001         \n",
      "10             3.1188         0.0001         \n",
      "100            3.1172         0.0005         \n",
      "1000           3.1172         0.0045         \n",
      "10000          3.1172         0.046          \n",
      "100000         3.1172         0.5067         \n",
      "1000000        3.1172         5.3188         \n",
      "\n",
      "Monte Carlo\n",
      "\n",
      "N              Integral       Time           \n",
      "1              5.2943         0.0001         \n",
      "10             3.1422         0.0001         \n",
      "100            3.3029         0.0015         \n",
      "1000           3.0336         0.0113         \n",
      "10000          3.1336         0.0543         \n",
      "100000         3.1097         0.7662         \n",
      "1000000        3.1172         5.4951         \n",
      "\n",
      "Integral: 3.1172247946607157\n"
     ]
    }
   ],
   "source": [
    "print(sjekk(j, rektangelmetoden, \"Rektangelmetoden\", 7))\n",
    "print(sjekk(j, trapesmetoden, \"Trapesmetoden\", 7))\n",
    "print(sjekk(j, simpsonsmetode, \"Simpsons metode\", 7))\n",
    "print(sjekk(j, montecarlo, \"Monte Carlo\", 7))\n",
    "print(f'Integral: {integrate.quad(j, A, B)[0]}')"
   ]
  },
  {
   "cell_type": "markdown",
   "metadata": {},
   "source": [
    "## Analyse\n",
    "\n",
    "\n",
    "### Rektangelmetoden\n",
    "\n",
    "Rektangelmetoden ser vi ga raske resultater relativt fort, spesielt ved nulltegradspolynomer som rektangler selv er. Vi ser også at i resten av tilfellene, økte nøyaktigheten med antall rektangler vi innpresset, så hadde vi bare kunnet hatt evig mange, ville vi fått et helt presist svar. Her ser vi også at det ble begrenset til forskjell etter N = 1000, tildels fordi jeg valgte å avrunde femte desimal i sammenligningen. Vi ser også at denne metoden ikke var like rask ved cosinusfunksjonen, noe som kan skyldes at rektangler passer svært dårlig i sving(ning)er!\n",
    "\n",
    "### Trapesmetoden\n",
    "\n",
    "Som rektangelmetoden, kom trapesmetoden fort og raskt frem til et integral i alle tilfeller. Vi ser også at trapesmeetoden ga en nøyaktig svar på førstegradsintegralet fra og med første N, noe som forventes siden areal under en rett linje kan presist tilnærmes et trapes. Disse metodene er enkle og raske, noe som gjorde N-verdier over 100 ikke så veldig brukbare.\n",
    "\n",
    "### Simpsons metode\n",
    "\n",
    "Simpsons metode er også en Newton-Cotes metode og gir dermed svært sammenlignbare resultatet som de to sistnevnte. Det som er bemerkelsesverdig, er at metoden trengte flere enn 1 N alle polynomene, der de to sistnevnte kun trengte 1 i enkelte tilfeller. Dette gir mening fordi denne metoden trenger 3 punkter og en N som er partall for å gjøre en tilnærming, som vil gjøre N = 1 sammenligningene her nytteløse. Uansett, er det viktig å påpeke og huske når man benytter seg av denne metoden som er særdeles mer avansert enn de sistnevnte - i hvertfall å utlede!\n",
    "\n",
    "### Monte Carlo\n",
    "\n",
    "I og med at Monte Carlo baseres på ren gjetting og tilnærming et gjennomsnitt, gir det mening hvorfor resultatene blir så usikre ved små N-verdier. Dette gjorde at metoden ofte krevde 10000 iterasjoner, noe vi heldigvis har mulighet til med nåtidens teknologi. Fordelen her, er at slike Monte Carlo-metoder kan benyttes til mye mer enn bare integrasjon, noe som gjør den svært versatil. Til dette, ville jeg nok helst holdt meg til de sistnevnte metodene, med mindre vi hadde rotete diskrete data å integrere der jevnt oppdelte områder ikke finnes. I denne testen, derimot, brukte den tid og var noe mer usikker enn resten av metodene."
   ]
  },
  {
   "cell_type": "markdown",
   "metadata": {},
   "source": [
    "## Konklusjon"
   ]
  },
  {
   "cell_type": "markdown",
   "metadata": {},
   "source": [
    "Som vi ser gjennom ulike forklaringer og sammenligninger, er det mange måter å numerisk integrere funksjoner på. Vi så at de tre første Newton-Cotes metodene gikk ut på å tilnærme polynomer til grafen, noe som ofte virket fint når funksjonen vår var et slikt polynom. I tilegg, så vi at vi kunne tilnærme et integral ved å finne et gjennomsnittlig uttrykk for funksjonen ved bruk av en Monte Carlo-metode. Uansett tilfelle, ble resultatene mer nøyaktige ved større N-verdier, noe som sier oss at vi hadde nådd en analytisk løsning hadde vi bare hatt evig tid og ressurser. Med arbeidet som gikk bak simpsons metode, tenker jeg nå til slutt at den beste numeriske integrasjonsmetoden ofte er den letteste: nemling rektangelmetoden."
   ]
  }
 ],
 "metadata": {
  "kernelspec": {
   "display_name": "Python 3",
   "language": "python",
   "name": "python3"
  },
  "language_info": {
   "codemirror_mode": {
    "name": "ipython",
    "version": 3
   },
   "file_extension": ".py",
   "mimetype": "text/x-python",
   "name": "python",
   "nbconvert_exporter": "python",
   "pygments_lexer": "ipython3",
   "version": "3.7.3"
  }
 },
 "nbformat": 4,
 "nbformat_minor": 2
}
