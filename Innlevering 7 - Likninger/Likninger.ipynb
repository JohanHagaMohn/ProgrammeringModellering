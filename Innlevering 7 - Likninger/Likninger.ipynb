{
 "cells": [
  {
   "cell_type": "markdown",
   "metadata": {},
   "source": [
    "# Likninger\n",
    "\n",
    "## Halveringsmetoden\n",
    "\n",
    "Halveringsmetoden er en måte å finne nullpunkter numerisk.\n",
    "\n",
    "Her velger vi oss to tilfeldige punkter, a og b. Deretter danner vi et variabel, m, som er midt i mellom disse to punktene. Hvis produktet av ett av punktene og m er negativt, vet vi at det er et nullpunkt mellom dem.\n",
    "\n",
    "Da setter vi det andre punktet til verdien av m. Fortsetter vi slik, vil vi nærme oss nullpunktet til det er innenfor toleranseverdien vår hvis nullpunktet i det hele tatt er i mellom de tilfeldig valgte punktene. \n",
    "\n",
    "Her har jeg også lagd et tellevariabel, c."
   ]
  },
  {
   "cell_type": "code",
   "execution_count": 1,
   "metadata": {},
   "outputs": [],
   "source": [
    "TOL = 1E-10\n",
    "\n",
    "def halver(a=-10, b=10, c=0):\n",
    "    m = (a + b) / 2\n",
    "    while abs(f(m)) > TOL and c < 1 / TOL:\n",
    "        if f(a) * f(m) < 0:\n",
    "            b = m\n",
    "        elif f(b) * f(m) < 0:\n",
    "            a = m\n",
    "        m = (a + b) / 2\n",
    "        c -=- 1\n",
    "    return round(m, 5), c"
   ]
  },
  {
   "cell_type": "markdown",
   "metadata": {},
   "source": [
    "## Newtons metode\n",
    "\n",
    "Som all ting Newton, er hans metode svært nyttig. Her kan vi ved numerisk derivasjon finne stigningstallet i et punkt, og lage en linje ved ettpunktsformelen:\n",
    "\n",
    "$y = f'(x_1)(x - x_1) + f(x_1)$\n",
    "\n",
    "For å finne linjens nullpunkt, setter vi y til null og får følgende uttrykk:\n",
    "\n",
    "$x = x_1 - \\frac{f(x_1)}{f'(x_1)}$\n",
    "\n",
    "Setter vi så denne nye x-verdien inn i originalfunksjonen for å nærme oss nullpunktet.\n"
   ]
  },
  {
   "cell_type": "code",
   "execution_count": 2,
   "metadata": {},
   "outputs": [],
   "source": [
    "def deriver(x):\n",
    "        return (f(x + TOL) - f(x)) / TOL\n",
    "\n",
    "def newton(x=-10, c=0):\n",
    "    while abs(f(x)) > TOL and c < 1 / TOL:\n",
    "        x = x - f(x) / deriver(x)\n",
    "        c -=- 1\n",
    "    return round(x, 5), c"
   ]
  },
  {
   "cell_type": "markdown",
   "metadata": {},
   "source": [
    "## Sammenligning\n",
    "\n",
    "Hvis vi nå definerer en funksjon, f, og finner et nullpunkt ved bruk av begge funksjonen, får vi tilsynelatende samme svar. Men hvis vi så ser på tellevariablet, ser vi at Newtons metode finner svaret på mange færre forsøk."
   ]
  },
  {
   "cell_type": "code",
   "execution_count": 3,
   "metadata": {},
   "outputs": [
    {
     "name": "stdout",
     "output_type": "stream",
     "text": [
      "Halvering: (-1.2102, 40)\n",
      "Newton: (-1.2102, 15)\n"
     ]
    }
   ],
   "source": [
    "def f(x):\n",
    "    return x ** 6 - 3 * x ** 5 - 2 * x ** 2 - 8\n",
    "\n",
    "print(f\"Halvering: {halver()}\\nNewton: {newton()}\")"
   ]
  },
  {
   "cell_type": "markdown",
   "metadata": {},
   "source": [
    "## Eksempel\n",
    "\n",
    "Vi kan nå se hvor langt tid det vil ta for et utskutt objekt å nå bakken ved bruk av følgende formel:\n",
    "\n",
    "$s = v_0 \\sin{\\theta} t - \\frac{1}{2} g t^2$\n",
    "\n",
    "Det ser ut som veiformelen, bortsett fra at vi har satt akselerasjon negativ fordi det er slik tyngdekraften virker. I tillegg, ganger vi startsfartsuttrykket med sinus til vinkelen mellom bakken og utskytningsobjektet for å ta i betraktning at startsfarten vil påvirke strektningen i ulik grad basert på retningen på farten.\n",
    "\n",
    "Har objektet en stor startsfart rett oppover, blir sinus til vinkelen én og 100% av farten vil motvirke akselerasjonen. Har objektet en høy startsfart bortover, har dette ingen effekt på høyden til objektet og sinus til 0 blir 0.\n",
    "\n",
    "Da kan vi redefinere f-funksjonen og derivere den ved en _tilfeligvalgt_ vinkel, startsfart og gravitasjon."
   ]
  },
  {
   "cell_type": "code",
   "execution_count": 4,
   "metadata": {},
   "outputs": [],
   "source": [
    "import math\n",
    "\n",
    "def f(t, a=math.pi / 10, v=18, g=9.81):\n",
    "    return v * math.sin(a) * t - 1 / 2 * g * t ** 2\n",
    "\n",
    "tid = newton(1)[0]"
   ]
  },
  {
   "cell_type": "markdown",
   "metadata": {},
   "source": [
    "Deretter, kan vi sette tiden inn i fartsformelen:\n",
    "\n",
    "$s = v\\cos{\\theta}t$\n",
    "\n",
    "Bortsett fra at vi bruker cosinus til å ta vinkelen til objektet i betraktning.\n",
    "\n",
    "Om objektet går rett opp og vinkelen mellom det og bakken er 90, vil objektet ikke forflytte seg langs bakken. Det stemmer siden cosinus til 90 er 0.\n",
    "\n",
    "Om objektet går rett bortover og vinkelen mellom det og bakken er 0, vil objektet forflytte seg maksimalt langs bakken. Det stemmer siden cosinus til 0 er 1."
   ]
  },
  {
   "cell_type": "code",
   "execution_count": 5,
   "metadata": {},
   "outputs": [
    {
     "name": "stdout",
     "output_type": "stream",
     "text": [
      "Den treffer bakken etter 1.13401 sekunder og har flydd 19.41314 meter.\n"
     ]
    }
   ],
   "source": [
    "def lengde(t, a=math.pi / 10, v=18):\n",
    "    return round(v * math.cos(a) * t, 5)\n",
    "\n",
    "avstand = lengde(tid)\n",
    "\n",
    "print(f\"Den treffer bakken etter {tid} sekunder og har flydd {avstand} meter.\")"
   ]
  },
  {
   "cell_type": "markdown",
   "metadata": {},
   "source": [
    "For å gjøre det samme med vinklene fra $\\frac{\\pi}{3}$ t.o.m. $\\frac{\\pi}{6}$, redefinerer jeg Newtons metode til å passere vinkel og startsfart i videre i funksjonen."
   ]
  },
  {
   "cell_type": "code",
   "execution_count": 6,
   "metadata": {
    "scrolled": true
   },
   "outputs": [],
   "source": [
    "def deriver(x, a, v):\n",
    "    return (f(x + TOL, a, v) - f(x, a, v)) / TOL\n",
    "\n",
    "def newton(a, v=18, x=10, c=0):\n",
    "    while abs(f(x, a, v)) > TOL and c < 10000000:\n",
    "        x = x - f(x, a, v) / deriver(x, a, v)\n",
    "        c -=- 1\n",
    "    return x"
   ]
  },
  {
   "cell_type": "markdown",
   "metadata": {},
   "source": [
    "Jeg lager en liste med de sistnevnte vinklene, finner deres nullpunkter i en ny liste og finner avstanden i en tredje liste.\n",
    "\n",
    "Deretter printer jeg ut avstand, tid og vinkel i grader til hver av vinklene. Der ser vi at en 45 graders vinkel er ideelt."
   ]
  },
  {
   "cell_type": "code",
   "execution_count": 7,
   "metadata": {},
   "outputs": [
    {
     "name": "stdout",
     "output_type": "stream",
     "text": [
      "Den flyr 29 meter på 3 sek fra 60 grader.\n",
      "Den flyr 33 meter på 3 sek fra 45 grader.\n",
      "Den flyr 31 meter på 2 sek fra 36 grader.\n",
      "Den flyr 29 meter på 2 sek fra 30 grader.\n"
     ]
    }
   ],
   "source": [
    "theta = [math.pi / i for i in range(3,7)]\n",
    "tid = [newton(i) for i in theta]\n",
    "avstand = [lengde(tid[i], theta[i]) for i in range(len(tid))]\n",
    "\n",
    "for i in range(len(theta)):\n",
    "    print(f\"Den flyr {round(avstand[i])} meter på {round(tid[i])} sek fra {round(theta[i]*180/math.pi)} grader.\")"
   ]
  },
  {
   "cell_type": "markdown",
   "metadata": {},
   "source": [
    "## Eksperiment\n",
    "\n",
    "Først henter vi tre målinger fra samme vinkel med ulik startsfart og observert lengde."
   ]
  },
  {
   "cell_type": "code",
   "execution_count": 8,
   "metadata": {},
   "outputs": [
    {
     "name": "stdout",
     "output_type": "stream",
     "text": [
      "Ved fart 4.65 og vinkel 45 måles lengde 2.55.\n",
      "Ved fart 4.78 og vinkel 45 måles lengde 2.6.\n",
      "Ved fart 4.72 og vinkel 45 måles lengde 2.6.\n"
     ]
    }
   ],
   "source": [
    "målinger = [\n",
    "    {\n",
    "        \"v\" : 4.65,\n",
    "        \"a\" : 45,\n",
    "        \"l\" : 2.55\n",
    "    },\n",
    "    {\n",
    "        \"v\" : 4.78,\n",
    "        \"a\" : 45,\n",
    "        \"l\" : 2.60\n",
    "    },\n",
    "    {\n",
    "        \"v\" : 4.72,\n",
    "        \"a\" : 45,\n",
    "        \"l\" : 2.60\n",
    "    }\n",
    "]\n",
    "\n",
    "for måling in målinger:\n",
    "    print(f'Ved fart {måling[\"v\"]} og vinkel {måling[\"a\"]} måles lengde {måling[\"l\"]}.')"
   ]
  },
  {
   "cell_type": "markdown",
   "metadata": {},
   "source": [
    "Deretter, kan vi finne tiden ved å derivere funksjonen og finne nullpunkt."
   ]
  },
  {
   "cell_type": "code",
   "execution_count": 24,
   "metadata": {},
   "outputs": [
    {
     "name": "stdout",
     "output_type": "stream",
     "text": [
      "Det tok 0.67 sek som tilsvarer 2.2 meter med avvik på 15.69%.\n",
      "Det tok 0.69 sek som tilsvarer 2.33 meter med avvik på 11.63%.\n",
      "Det tok 0.68 sek som tilsvarer 2.27 meter med avvik på 14.49%.\n"
     ]
    }
   ],
   "source": [
    "for måling in målinger:\n",
    "    rad = måling[\"a\"] * math.pi / 180\n",
    "    tid = newton(rad, måling[\"v\"])\n",
    "    avstand = lengde(tid, rad, måling[\"v\"])\n",
    "    avvik = abs(avstand - måling[\"l\"]) / avstand * 100\n",
    "    \n",
    "    print(f'Det tok {round(tid, 2)} sek som tilsvarer {round(avstand, 2)} meter med avvik på {round(avvik, 2)}%.')"
   ]
  },
  {
   "cell_type": "markdown",
   "metadata": {},
   "source": [
    "Teoretisk sett skulle ballen flydd et par desimeter færre da vi skjøt spurv med kanon. Dette kan skyldes at ballen ikke startet ved bakken, unnøyaktig gravitasjon, avrundingsfeil, vind, eller andre koselige fenomener. Og jeg som bare skulle regne på noen kanonkuler.\n",
    "\n",
    "    Men hvor lang tid tok det da egentlig?\n",
    "\n",
    "Jo, ved å endre avstandsformelen kan vi bruke den målte lengden til å finne sånn ca. hvor lang tid det tok:\n",
    "\n",
    "$s = v\\cos{\\theta}t$\n",
    "\n",
    "$t = \\frac{s}{v\\cos{\\theta}}$"
   ]
  },
  {
   "cell_type": "code",
   "execution_count": 25,
   "metadata": {},
   "outputs": [
    {
     "name": "stdout",
     "output_type": "stream",
     "text": [
      "Det tok 0.78 sek.\n",
      "Det tok 0.77 sek.\n",
      "Det tok 0.78 sek.\n"
     ]
    }
   ],
   "source": [
    "def sek(a, v, l):\n",
    "    return l / (v * math.cos(a))\n",
    "\n",
    "for måling in målinger:\n",
    "    rad = måling[\"a\"] * math.pi / 180\n",
    "    tid = sek(rad, måling[\"v\"], måling[\"l\"])\n",
    "    \n",
    "    print(f'Det tok {round(tid, 2)} sek.')"
   ]
  },
  {
   "cell_type": "markdown",
   "metadata": {},
   "source": [
    "Her observerer vi at tiden forblir nokså konstant noe som kan skyldes at målingene våre var nokså like."
   ]
  },
  {
   "cell_type": "markdown",
   "metadata": {},
   "source": [
    "## Konklusjon\n",
    "\n",
    "Her har vi brukt ulike metoder til å finne nullpunkter til funksjoner og gjennomført et eksempel der vi innhenter data ved å skyte spurv med kanon. Denne dataen brukte vi til å finne avstand som vi kunne sammenligne med observerte data. Vi fikk et nokså stort avvik som kan skyldes \n",
    "\n"
   ]
  }
 ],
 "metadata": {
  "kernelspec": {
   "display_name": "Python 3",
   "language": "python",
   "name": "python3"
  },
  "language_info": {
   "codemirror_mode": {
    "name": "ipython",
    "version": 3
   },
   "file_extension": ".py",
   "mimetype": "text/x-python",
   "name": "python",
   "nbconvert_exporter": "python",
   "pygments_lexer": "ipython3",
   "version": "3.8.0"
  }
 },
 "nbformat": 4,
 "nbformat_minor": 2
}
